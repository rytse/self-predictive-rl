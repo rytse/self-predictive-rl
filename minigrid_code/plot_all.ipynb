{
 "cells": [
  {
   "cell_type": "code",
   "execution_count": 1,
   "id": "1d95898b-f081-4460-98d9-2f650d56c061",
   "metadata": {},
   "outputs": [],
   "source": [
    "import pandas as pd\n",
    "import numpy as np\n",
    "import matplotlib.pyplot as plt\n",
    "import glob\n",
    "import json"
   ]
  },
  {
   "cell_type": "code",
   "execution_count": null,
   "id": "c392a535-b76f-4bec-bfd6-0b069ceb855a",
   "metadata": {},
   "outputs": [],
   "source": [
    "auxs = [\"ZP\", \"OP\", \"bisim_critic\"]  # , \"ZP_critic\"]\n",
    "\n",
    "envs = []\n",
    "with open(\"envs.txt\", \"r\") as envs_file:\n",
    "    for line in envs_file:\n",
    "        envs.append(line.strip())\n",
    "\n",
    "results = dict()"
   ]
  },
  {
   "cell_type": "code",
   "execution_count": 3,
   "id": "0420cb6f-c280-47be-950f-bf9aebb9cd9d",
   "metadata": {},
   "outputs": [],
   "source": [
    "new_cfg_paths = glob.glob(\"./logs/**/config.json\", recursive=True)\n",
    "for cfg_path in new_cfg_paths:\n",
    "    res_path = cfg_path.replace(\"config.json\", \"progress.csv\")\n",
    "    with open(cfg_path, \"r\") as cfg_file:\n",
    "        cfg = json.load(cfg_file)\n",
    "\n",
    "        env = cfg[\"env_name\"]\n",
    "        aux = cfg[\"aux\"]\n",
    "        df = pd.read_csv(res_path)\n",
    "\n",
    "        if env not in results:\n",
    "            results[env] = dict()\n",
    "        if aux not in results[env]:\n",
    "            results[env][aux] = []\n",
    "        results[env][aux].append(df)"
   ]
  },
  {
   "cell_type": "code",
   "execution_count": 4,
   "id": "911397a6-91c6-4b49-862a-4611fa46074d",
   "metadata": {},
   "outputs": [],
   "source": [
    "# orig_cfg_paths = glob.glob(\"./logs_original/**/config.json\", recursive=True)\n",
    "# for cfg_path in orig_cfg_paths:\n",
    "#     res_path = cfg_path.replace(\"config.json\", \"progress.csv\")\n",
    "#     with open(cfg_path, \"r\") as cfg_file:\n",
    "#         cfg = json.load(cfg_file)\n",
    "\n",
    "#         env = cfg[\"env_name\"]\n",
    "#         aux = cfg[\"aux\"]\n",
    "#         try:\n",
    "#             df = pd.read_csv(res_path)\n",
    "#         except Exception:\n",
    "#             pass\n",
    "\n",
    "#         if env not in results:\n",
    "#             results[env] = dict()\n",
    "#         if aux not in results[env]:\n",
    "#             results[env][aux] = []\n",
    "#         results[env][aux].append(df)"
   ]
  },
  {
   "cell_type": "code",
   "execution_count": 5,
   "id": "341a34cd-9e66-407a-931a-a8d65fb71f49",
   "metadata": {},
   "outputs": [
    {
     "ename": "KeyError",
     "evalue": "'bisim'",
     "output_type": "error",
     "traceback": [
      "\u001b[0;31m---------------------------------------------------------------------------\u001b[0m",
      "\u001b[0;31mKeyError\u001b[0m                                  Traceback (most recent call last)",
      "Cell \u001b[0;32mIn[5], line 7\u001b[0m\n\u001b[1;32m      4\u001b[0m plt\u001b[38;5;241m.\u001b[39msubplot(\u001b[38;5;241m4\u001b[39m, \u001b[38;5;241m5\u001b[39m, i)\n\u001b[1;32m      6\u001b[0m \u001b[38;5;28;01mfor\u001b[39;00m aux \u001b[38;5;129;01min\u001b[39;00m auxs:\n\u001b[0;32m----> 7\u001b[0m     dfs \u001b[38;5;241m=\u001b[39m \u001b[43mresults\u001b[49m\u001b[43m[\u001b[49m\u001b[43menv\u001b[49m\u001b[43m]\u001b[49m\u001b[43m[\u001b[49m\u001b[43maux\u001b[49m\u001b[43m]\u001b[49m\n\u001b[1;32m      8\u001b[0m     \u001b[38;5;28;01mif\u001b[39;00m \u001b[38;5;28mlen\u001b[39m(dfs) \u001b[38;5;241m==\u001b[39m \u001b[38;5;241m1\u001b[39m:\n\u001b[1;32m      9\u001b[0m         df \u001b[38;5;241m=\u001b[39m dfs[\u001b[38;5;241m0\u001b[39m]\n",
      "\u001b[0;31mKeyError\u001b[0m: 'bisim'"
     ]
    },
    {
     "data": {
      "image/png": "[encoded data removed]",
      "text/plain": [
       "<Figure size 2000x2500 with 1 Axes>"
      ]
     },
     "metadata": {},
     "output_type": "display_data"
    }
   ],
   "source": [
    "plt.figure(figsize=(20, 25))\n",
    "i = 1\n",
    "for env in envs:\n",
    "    plt.subplot(4, 5, i)\n",
    "\n",
    "    for aux in auxs:\n",
    "        dfs = results[env][aux]\n",
    "        if len(dfs) == 1:\n",
    "            df = dfs[0]\n",
    "        else:\n",
    "            combined = pd.concat(\n",
    "                [df[[\"env_steps\", \"return\"]] for df in dfs], ignore_index=True\n",
    "            )\n",
    "\n",
    "            def iqm(x):\n",
    "                q1, q3 = np.percentile(x, [25, 75])\n",
    "                mask = (x >= q1) & (x <= q3)\n",
    "                return np.mean(x[mask]) if len(x[mask]) > 0 else np.nan\n",
    "\n",
    "            df = (\n",
    "                combined.groupby(\"env_steps\")[\"return\"]\n",
    "                .agg(iqm)\n",
    "                .reset_index()\n",
    "                .sort_values(\"env_steps\")\n",
    "            )\n",
    "\n",
    "        valid_idxs = ~df[\"return\"].isna()\n",
    "        plt.plot(df[valid_idxs][\"env_steps\"], df[valid_idxs][\"return\"])\n",
    "\n",
    "    plt.xlabel(\"Env Steps\")\n",
    "    plt.ylabel(\"Return\")\n",
    "    plt.title(env)\n",
    "\n",
    "    plt.legend(auxs)\n",
    "\n",
    "    i += 1\n",
    "plt.show()"
   ]
  },
  {
   "cell_type": "code",
   "execution_count": null,
   "id": "c545e5a1-bcee-45a6-aece-efb7abec9448",
   "metadata": {},
   "outputs": [],
   "source": []
  }
 ],
 "metadata": {
  "kernelspec": {
   "display_name": "selfpred2",
   "language": "python",
   "name": "python3"
  },
  "language_info": {
   "codemirror_mode": {
    "name": "ipython",
    "version": 3
   },
   "file_extension": ".py",
   "mimetype": "text/x-python",
   "name": "python",
   "nbconvert_exporter": "python",
   "pygments_lexer": "ipython3",
   "version": "3.8.20"
  }
 },
 "nbformat": 4,
 "nbformat_minor": 5
}
